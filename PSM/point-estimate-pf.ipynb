{
 "cells": [
  {
   "cell_type": "markdown",
   "metadata": {},
   "source": [
    "# 点估计法概率潮流"
   ]
  },
  {
   "cell_type": "markdown",
   "metadata": {},
   "source": [
    "三点估计法的基本原理 \n",
    "设$Z=h(X)$,其中$X$是由n个随机变量构成的向量"
   ]
  },
  {
   "cell_type": "markdown",
   "metadata": {},
   "source": [
    "点估计法的本质是利用输入随机变量的前 2m+1 阶中心矩来估计输出随机变量的各阶原点矩[1]。\n",
    "\n",
    "具体步骤：\n",
    "\t* 在有m个随机变量的m维输入空间中取样本点\n",
    "\t* 在其它随机变量均取均值的前提下，第i个随机变量取3个样本点，谓之3点采样\n",
    "\t* 若每个随机变量在采样时均采一个均值，故会出现m个相同样本点\n",
    "\t* 所有有效样本数为2m+1,其中2m为每个随机变量的两个采样点，另一个就是所有随机量都取平均值的样本点\n",
    "\t* 在每一个样本点上执行确定性潮流计算\n",
    "\n"
   ]
  },
  {
   "cell_type": "markdown",
   "metadata": {},
   "source": [
    "[1] 艾小猛, 文劲宇, 吴桐,等. 基于点估计和Gram-Charlier展开的含风电电力系统概率潮流实用算法[J]. 中国电机工程学报, 2013, 33(16):16-22.\n",
    "\n",
    "[2] 杨欢, 邹斌. 含相关性随机变量的概率潮流三点估计法[J]. 电力系统自动化, 2012, 36(15):51-56."
   ]
  },
  {
   "cell_type": "code",
   "execution_count": null,
   "metadata": {},
   "outputs": [],
   "source": []
  }
 ],
 "metadata": {
  "kernelspec": {
   "display_name": "Python 3",
   "language": "python",
   "name": "python3"
  },
  "language_info": {
   "codemirror_mode": {
    "name": "ipython",
    "version": 3
   },
   "file_extension": ".py",
   "mimetype": "text/x-python",
   "name": "python",
   "nbconvert_exporter": "python",
   "pygments_lexer": "ipython3",
   "version": "3.6.4"
  }
 },
 "nbformat": 4,
 "nbformat_minor": 2
}
